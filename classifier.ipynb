{
  "nbformat": 4,
  "nbformat_minor": 0,
  "metadata": {
    "colab": {
      "provenance": [],
      "gpuType": "T4",
      "authorship_tag": "ABX9TyNv3RMCd303ol5SbperyOxg",
      "include_colab_link": true
    },
    "kernelspec": {
      "name": "python3",
      "display_name": "Python 3"
    },
    "language_info": {
      "name": "python"
    },
    "accelerator": "GPU"
  },
  "cells": [
    {
      "cell_type": "markdown",
      "metadata": {
        "id": "view-in-github",
        "colab_type": "text"
      },
      "source": [
        "<a href=\"https://colab.research.google.com/github/jpmedras/programming-problem-classifier/blob/main/classifier.ipynb\" target=\"_parent\"><img src=\"https://colab.research.google.com/assets/colab-badge.svg\" alt=\"Open In Colab\"/></a>"
      ]
    },
    {
      "cell_type": "code",
      "source": [
        "from torch.utils.data import Dataset\n",
        "from torch import tensor\n",
        "\n",
        "class ProblemDataset(Dataset):\n",
        "    def __init__(self, data, inputs_encoder, labels_encoder):\n",
        "        self.inputs = inputs_encoder(data['inputs'])\n",
        "        self.labels = labels_encoder(data['labels'])\n",
        "\n",
        "    def __len__(self):\n",
        "        return len(self.inputs)\n",
        "\n",
        "    def __getitem__(self, index):\n",
        "        return self.inputs[index], self.labels[index]\n",
        "\n",
        "def tolist(dataset):\n",
        "    inputs = []\n",
        "    labels = []\n",
        "\n",
        "    for inp, lab in dataset:\n",
        "        inputs.append(inp[0, :].numpy().tolist())\n",
        "        labels.append(lab.numpy().tolist())\n",
        "\n",
        "    labels = [item for sublist in labels for item in sublist]\n",
        "\n",
        "    return inputs, labels"
      ],
      "metadata": {
        "id": "G5mOGeQJvx6i"
      },
      "execution_count": 1,
      "outputs": []
    },
    {
      "cell_type": "code",
      "source": [
        "from torch.utils.data import DataLoader\n",
        "\n",
        "def create_dataloader(dataset, batch_size, type):\n",
        "    if type == 'train':\n",
        "        shuffle = True\n",
        "    else:\n",
        "        shuffle = False\n",
        "\n",
        "    loader = DataLoader(dataset=dataset, batch_size=batch_size, drop_last=True, shuffle=shuffle)\n",
        "\n",
        "    return loader"
      ],
      "metadata": {
        "id": "inCywYAIvzry"
      },
      "execution_count": 2,
      "outputs": []
    },
    {
      "cell_type": "code",
      "source": [
        "from torch import tensor, long\n",
        "from torch import unsqueeze, cat\n",
        "from transformers import BertTokenizer\n",
        "\n",
        "def define_encoders(max_len):\n",
        "    def inputs_encoder(inputs):\n",
        "        tokenizer = BertTokenizer.from_pretrained('bert-base-uncased').encode_plus\n",
        "        encoded_inputs = []\n",
        "        for input in inputs:\n",
        "            encoding = tokenizer(\n",
        "                text=input,\n",
        "                add_special_tokens=True,\n",
        "                padding='max_length',\n",
        "                truncation='longest_first',\n",
        "                max_length=max_len\n",
        "            )\n",
        "\n",
        "            input_ids = encoding['input_ids']\n",
        "            attention_mask = encoding['attention_mask']\n",
        "            token_type_ids = encoding['token_type_ids']\n",
        "\n",
        "            encoded_input_ids = tensor(input_ids, dtype=long).unsqueeze(0)\n",
        "            encoded_attention_mask = tensor(attention_mask, dtype=long).unsqueeze(0)\n",
        "            encoded_token_type_ids = tensor(token_type_ids, dtype=long).unsqueeze(0)\n",
        "\n",
        "            encoded_input = cat((encoded_input_ids, encoded_attention_mask, encoded_token_type_ids), dim = 0).unsqueeze(0)\n",
        "            encoded_inputs.append(encoded_input)\n",
        "\n",
        "        try:\n",
        "            encoded = cat(encoded_inputs)\n",
        "            return encoded\n",
        "        except:\n",
        "            print('Number of inputs:', len(encoded_inputs))\n",
        "            max_dif = max([e.shape[2] for e in encoded_inputs])\n",
        "            print('Max shape:', max_dif)\n",
        "            for idx, e in enumerate(encoded_inputs):\n",
        "                if e.shape[2] != max_len:\n",
        "                    print(idx)\n",
        "                    print(e.shape[2])\n",
        "                    print(inputs[idx])\n",
        "                    break\n",
        "            return None\n",
        "\n",
        "    def labels_encoder(labels):\n",
        "        encoded_labels = []\n",
        "        for label in labels:\n",
        "            encoded_labels.append(\n",
        "                tensor([label], dtype=long).unsqueeze(0)\n",
        "            )\n",
        "\n",
        "        encoded = cat(encoded_labels)\n",
        "\n",
        "        return encoded\n",
        "\n",
        "    return inputs_encoder, labels_encoder"
      ],
      "metadata": {
        "id": "YKV1yw4Av1zV"
      },
      "execution_count": 3,
      "outputs": []
    },
    {
      "cell_type": "code",
      "source": [
        "import pandas as pd\n",
        "\n",
        "def load_data(data_path):\n",
        "    df = pd.read_csv(data_path, encoding='utf-8')\n",
        "    data = {\n",
        "        'inputs': df.inputs.values.tolist(),\n",
        "        'labels': df.labels.values.tolist()\n",
        "    }\n",
        "\n",
        "    return data"
      ],
      "metadata": {
        "id": "iv6HBYSfv3EN"
      },
      "execution_count": 4,
      "outputs": []
    },
    {
      "cell_type": "code",
      "source": [
        "import torch\n",
        "import random\n",
        "import numpy as np\n",
        "\n",
        "def define_seed(seed=42):\n",
        "    torch.manual_seed(seed)\n",
        "    random.seed(seed)\n",
        "    np.random.seed(seed)\n",
        "    #torch.use_deterministic_algorithms(True)"
      ],
      "metadata": {
        "id": "n1RSfpnav4O5"
      },
      "execution_count": 5,
      "outputs": []
    },
    {
      "cell_type": "code",
      "source": [
        "from torch.utils.data import random_split\n",
        "from torch import Generator\n",
        "\n",
        "def split_data(dataset, lengths, seed=42):\n",
        "    assert len(lengths) == 2, \"You must define the size of train dataset and test dataset\"\n",
        "\n",
        "    train_set, test_set = random_split(dataset, lengths, Generator().manual_seed(seed))\n",
        "\n",
        "    return train_set, test_set"
      ],
      "metadata": {
        "id": "adshp-_4v5Y8"
      },
      "execution_count": 6,
      "outputs": []
    },
    {
      "cell_type": "code",
      "source": [
        "import torch\n",
        "from torch import long\n",
        "\n",
        "def calc_loss(model, dataloader, criterion):\n",
        "    with torch.no_grad():\n",
        "        total_loss = 0.\n",
        "        for inputs, labels in dataloader:\n",
        "            ids = inputs[:, 0].to(model.device, dtype=long)\n",
        "            masks = inputs[:, 1].to(model.device, dtype=long)\n",
        "            tti = inputs[:, 2].to(model.device, dtype=long)\n",
        "            labels = labels.squeeze().to(model.device, dtype=long)\n",
        "\n",
        "            outputs = model(ids, masks, tti)\n",
        "\n",
        "            loss = criterion(outputs, labels)\n",
        "\n",
        "            total_loss += loss.item()\n",
        "\n",
        "        average_loss = total_loss / len(dataloader)\n",
        "\n",
        "        return average_loss"
      ],
      "metadata": {
        "id": "O_lM3LK0v_3m"
      },
      "execution_count": 7,
      "outputs": []
    },
    {
      "cell_type": "code",
      "source": [
        "import torch\n",
        "from torch import nn, long, argmax, optim, save\n",
        "from transformers import BertModel\n",
        "from torch import cuda\n",
        "\n",
        "import matplotlib.pyplot as plt\n",
        "from sklearn.metrics import f1_score, confusion_matrix, ConfusionMatrixDisplay\n",
        "\n",
        "class BERTModule(nn.Module):\n",
        "    def __init__(self, n_classes, dropout_p = 0.3):\n",
        "        super(BERTModule, self).__init__()\n",
        "        self.bert = BertModel.from_pretrained('bert-base-uncased')\n",
        "        # for param in self.bert.parameters():\n",
        "        #   param.requires_grad = False\n",
        "        self.dropout = nn.Dropout(p = dropout_p)\n",
        "        self.fc = nn.Linear(768, n_classes)\n",
        "\n",
        "        self.device = 'cuda' if cuda.is_available() else 'cpu'\n",
        "        self.to(self.device)\n",
        "\n",
        "    def forward(self, ids, masks, ttis):\n",
        "        _, pooled_output = self.bert(ids, attention_mask = masks, token_type_ids = ttis, return_dict = False)\n",
        "        output_drop = self.dropout(pooled_output)\n",
        "        output = self.fc(output_drop)\n",
        "\n",
        "        return output\n",
        "\n",
        "    def fit(self, train_loader, test_loader, epochs = 10, learning_rate = 1e-05):\n",
        "        self.epochs = epochs\n",
        "        self.learning_rate = learning_rate\n",
        "\n",
        "        criterion = nn.CrossEntropyLoss()\n",
        "        optimizer = optim.Adam(params = self.parameters(), lr = self.learning_rate)\n",
        "\n",
        "        self.to(self.device)\n",
        "\n",
        "        self.train()\n",
        "\n",
        "        train_losses = []\n",
        "        test_losses = []\n",
        "\n",
        "        print('Begin training...')\n",
        "\n",
        "        for epoch in range(self.epochs):\n",
        "            train_loss = 0.\n",
        "\n",
        "            for inputs, labels in train_loader:\n",
        "                optimizer.zero_grad()\n",
        "\n",
        "                ids = inputs[:, 0].to(self.device, dtype=long)\n",
        "                masks = inputs[:, 1].to(self.device, dtype=long)\n",
        "                tti = inputs[:, 2].to(self.device, dtype=long)\n",
        "                labels = labels.squeeze().to(self.device, dtype=long)\n",
        "\n",
        "                assert ids.shape == masks.shape, 'Ids != Masks'\n",
        "                assert masks.shape == tti.shape, 'Masks != Ttis'\n",
        "                assert ids.shape == tti.shape, 'Ids != Ttis'\n",
        "\n",
        "                assert ids.shape[0] == labels.shape[0], 'inputs and labels are incompatible'\n",
        "\n",
        "                outputs = self(ids, masks, tti)\n",
        "\n",
        "                loss = criterion(outputs, labels)\n",
        "\n",
        "                loss.backward()\n",
        "                optimizer.step()\n",
        "\n",
        "                train_loss += loss.item()\n",
        "\n",
        "            avg_train_loss = train_loss / len(train_loader)\n",
        "            avg_test_loss = calc_loss(self, test_loader, criterion)\n",
        "\n",
        "            train_losses.append(avg_train_loss)\n",
        "            test_losses.append(avg_test_loss)\n",
        "\n",
        "            print(f'Epoch {epoch + 1}/{self.epochs} Train Loss: {avg_train_loss} Test Loss: {avg_test_loss}')\n",
        "\n",
        "        print('Ending training...')\n",
        "\n",
        "        model_name = 'model' + '_' + 'ep' + str(self.epochs) + '_' + 'lr' + str(self.learning_rate) + '.pth'\n",
        "        save(self.state_dict(), model_name)\n",
        "\n",
        "        return train_losses, test_losses\n",
        "\n",
        "    def evaluate(self, dataloader):\n",
        "        self.eval()\n",
        "\n",
        "        data_labels = []\n",
        "        data_outputs = []\n",
        "\n",
        "        with torch.no_grad():\n",
        "            for inputs, labels in dataloader:\n",
        "\n",
        "                ids = inputs[:, 0].to(self.device, dtype=long)\n",
        "                masks = inputs[:, 1].to(self.device, dtype=long)\n",
        "                tti = inputs[:, 2].to(self.device, dtype=long)\n",
        "                labels = labels.squeeze().to(self.device, dtype=long)\n",
        "\n",
        "                assert ids.shape == masks.shape, 'Ids != Masks'\n",
        "                assert masks.shape == tti.shape, 'Masks != Ttis'\n",
        "                assert ids.shape == tti.shape, 'Ids != Ttis'\n",
        "\n",
        "                assert ids.shape[0] == labels.shape[0], 'inputs and labels are incompatible'\n",
        "\n",
        "                outputs = self(ids, masks, tti)\n",
        "                outputs = nn.functional.softmax(outputs, dim=1)\n",
        "                outputs = argmax(outputs, dim=1)\n",
        "\n",
        "                data_labels.extend(labels.cpu().detach().numpy().tolist())\n",
        "                data_outputs.extend(outputs.cpu().detach().numpy().tolist())\n",
        "\n",
        "        target_names = ['Easy', 'Medium', 'Hard']\n",
        "        macro_f1 = f1_score(data_labels, data_outputs, average='macro')\n",
        "        cm = confusion_matrix(data_labels, data_outputs)\n",
        "        disp = ConfusionMatrixDisplay(confusion_matrix=cm, display_labels=target_names)\n",
        "        print(f'Macro F1: {macro_f1}')\n",
        "        disp.plot()\n",
        "        plt.show()\n",
        "\n",
        "    def predict(self, text):\n",
        "        self.eval()\n",
        "\n",
        "        target_names = ['Easy', 'Medium', 'Hard']\n",
        "\n",
        "        input_encoder, _ = define_encoders(max_len=300)\n",
        "\n",
        "        with torch.no_grad():\n",
        "            input = input_encoder([text])\n",
        "\n",
        "            ids = input[:, 0].to(self.device, dtype=long)\n",
        "            masks = input[:, 1].to(self.device, dtype=long)\n",
        "            tti = input[:, 2].to(self.device, dtype=long)\n",
        "\n",
        "            assert ids.shape == masks.shape, 'Ids != Masks'\n",
        "            assert masks.shape == tti.shape, 'Masks != Ttis'\n",
        "            assert ids.shape == tti.shape, 'Ids != Ttis'\n",
        "\n",
        "            output = self(ids, masks, tti)\n",
        "            output = nn.functional.softmax(output, dim=1)\n",
        "            output = argmax(output, dim=1)\n",
        "\n",
        "            output = output.cpu().detach().numpy().tolist()\n",
        "\n",
        "            print(f'Text: {text}')\n",
        "            print(f'Difficulty: {target_names[output[0]]}')"
      ],
      "metadata": {
        "id": "lsYZX7w9v7uJ"
      },
      "execution_count": 38,
      "outputs": []
    },
    {
      "cell_type": "code",
      "source": [
        "import matplotlib.pyplot as plt\n",
        "\n",
        "def show_loss_evolution(num_epochs, train_losses, test_losses):\n",
        "    plt.plot(range(1, num_epochs + 1), train_losses, marker='o', linestyle='-', color='b', label='Train')\n",
        "    plt.plot(range(1, num_epochs + 1), test_losses, marker='x', linestyle='-', color='g', label='Test')\n",
        "\n",
        "    plt.title('Learning Curve')\n",
        "    plt.xlabel('Epochs')\n",
        "    plt.ylabel('Average Loss')\n",
        "    plt.legend()\n",
        "    plt.show()"
      ],
      "metadata": {
        "id": "3GVmeTikwDA2"
      },
      "execution_count": 13,
      "outputs": []
    },
    {
      "cell_type": "code",
      "source": [
        "from sklearn.svm import SVC\n",
        "from sklearn.ensemble import GradientBoostingClassifier\n",
        "from sklearn.ensemble import RandomForestClassifier\n",
        "\n",
        "SEED = 42\n",
        "MAX_LEN = 200\n",
        "TRAIN_BATCH_SIZE = 8\n",
        "TEST_BATCH_SIZE = 4\n",
        "EPOCHS = 10\n",
        "LEARNING_RATE = 1e-05\n",
        "DATA_PATH = 'leetcode.csv'\n",
        "\n",
        "define_seed(SEED)\n",
        "\n",
        "inputs_encoder, labels_encoder = define_encoders(MAX_LEN)\n",
        "\n",
        "data = load_data(data_path=DATA_PATH)\n",
        "\n",
        "dataset = ProblemDataset(\n",
        "    data=data,\n",
        "    inputs_encoder=inputs_encoder,\n",
        "    labels_encoder=labels_encoder\n",
        ")\n",
        "train_set, test_set = split_data(\n",
        "    dataset=dataset,\n",
        "    lengths=[0.85, 0.15],\n",
        "    seed=SEED\n",
        ")\n",
        "\n",
        "train_loader = create_dataloader(dataset = train_set, batch_size = TRAIN_BATCH_SIZE, type='train')\n",
        "test_loader = create_dataloader(dataset = test_set, batch_size = TEST_BATCH_SIZE, type='test')\n",
        "\n",
        "model = BERTModule(n_classes = 3)\n",
        "\n",
        "train_losses, test_losses = model.fit(train_loader=train_loader, test_loader=test_loader, epochs = EPOCHS, learning_rate = LEARNING_RATE)"
      ],
      "metadata": {
        "colab": {
          "base_uri": "https://localhost:8080/"
        },
        "id": "gBhk2qFIwEhW",
        "outputId": "a1640488-f237-4919-9e45-62c87331b0ae"
      },
      "execution_count": 50,
      "outputs": [
        {
          "output_type": "stream",
          "name": "stdout",
          "text": [
            "Begin training...\n",
            "Epoch 1/10 Train Loss: 1.0128549596955698 Test Loss: 1.0622000666765066\n",
            "Epoch 2/10 Train Loss: 0.9511229466366512 Test Loss: 1.0373266687759986\n",
            "Epoch 3/10 Train Loss: 0.876926592921698 Test Loss: 0.9863898932933808\n",
            "Epoch 4/10 Train Loss: 0.7809429942600189 Test Loss: 1.011210811138153\n",
            "Epoch 5/10 Train Loss: 0.6390009768387322 Test Loss: 1.1216600670264318\n",
            "Epoch 6/10 Train Loss: 0.4581365206389017 Test Loss: 1.1397187141271738\n",
            "Epoch 7/10 Train Loss: 0.298803532916692 Test Loss: 1.4686322721151206\n",
            "Epoch 8/10 Train Loss: 0.19799815368668366 Test Loss: 1.4611942020746378\n",
            "Epoch 9/10 Train Loss: 0.14017008954999588 Test Loss: 1.7255288499479111\n",
            "Epoch 10/10 Train Loss: 0.10820852059830902 Test Loss: 1.6538084637660246\n",
            "Ending training...\n"
          ]
        }
      ]
    },
    {
      "cell_type": "code",
      "source": [
        "show_loss_evolution(EPOCHS, train_losses, test_losses)"
      ],
      "metadata": {
        "colab": {
          "base_uri": "https://localhost:8080/",
          "height": 472
        },
        "id": "rNHNH0B0GpNl",
        "outputId": "7a741853-a3e3-4b36-9ad6-1bb9664fcf67"
      },
      "execution_count": 53,
      "outputs": [
        {
          "output_type": "display_data",
          "data": {
            "text/plain": [
              "<Figure size 640x480 with 1 Axes>"
            ],
            "image/png": "[encoded data removed]"
          },
          "metadata": {}
        }
      ]
    },
    {
      "cell_type": "code",
      "source": [
        "model.evaluate(dataloader=train_loader)"
      ],
      "metadata": {
        "colab": {
          "base_uri": "https://localhost:8080/",
          "height": 466
        },
        "id": "D34ZtDZ6GV6j",
        "outputId": "b595b1af-b6c0-48bb-c29c-ee7cc87d49cd"
      },
      "execution_count": 51,
      "outputs": [
        {
          "output_type": "stream",
          "name": "stdout",
          "text": [
            "Macro F1: 0.9865229148492333\n"
          ]
        },
        {
          "output_type": "display_data",
          "data": {
            "text/plain": [
              "<Figure size 640x480 with 2 Axes>"
            ],
            "image/png": "[encoded data removed]"
          },
          "metadata": {}
        }
      ]
    },
    {
      "cell_type": "code",
      "source": [
        "model.evaluate(dataloader=test_loader)"
      ],
      "metadata": {
        "colab": {
          "base_uri": "https://localhost:8080/",
          "height": 466
        },
        "id": "TvXGrEOFGZ7A",
        "outputId": "2db10ab2-54ee-46b7-a7a0-ee2d6389395c"
      },
      "execution_count": 52,
      "outputs": [
        {
          "output_type": "stream",
          "name": "stdout",
          "text": [
            "Macro F1: 0.4920403474129498\n"
          ]
        },
        {
          "output_type": "display_data",
          "data": {
            "text/plain": [
              "<Figure size 640x480 with 2 Axes>"
            ],
            "image/png": "[encoded data removed]"
          },
          "metadata": {}
        }
      ]
    },
    {
      "cell_type": "code",
      "source": [
        "from torch import load\n",
        "\n",
        "model_path = 'model_ep5_lr1e-05.pth'\n",
        "\n",
        "model = BERTModule(n_classes = 3)\n",
        "model.load_state_dict(load(model_path))\n",
        "\n",
        "text = \"\"\"Given an integer x, return true if x is a palindrome, and false otherwise.\"\"\"\n",
        "\n",
        "model.predict(text=text)"
      ],
      "metadata": {
        "colab": {
          "base_uri": "https://localhost:8080/"
        },
        "id": "7bAsYIvvB5PV",
        "outputId": "87c80f68-a79e-4ee8-e32b-bdd2d9f7c52e"
      },
      "execution_count": 46,
      "outputs": [
        {
          "output_type": "stream",
          "name": "stdout",
          "text": [
            "Text: Given an integer x, return true if x is a palindrome, and false otherwise.\n",
            "Difficulty: Easy\n"
          ]
        }
      ]
    }
  ]
}